{
 "cells": [
  {
   "cell_type": "code",
   "execution_count": 0,
   "metadata": {
    "application/vnd.databricks.v1+cell": {
     "cellMetadata": {},
     "inputWidgets": {},
     "nuid": "0de72f26-5278-4a95-ae37-d14ef499a953",
     "showTitle": false,
     "title": ""
    }
   },
   "outputs": [],
   "source": [
    "from pyspark.sql import SparkSession\n",
    "\n",
    "# Inicializa a sessão do Spark\n",
    "spark = SparkSession.builder.appName(\"SaveToCurated\").getOrCreate()\n",
    "\n",
    "def save_to_curated():\n",
    "    \"\"\"\n",
    "    Função para salvar os DataFrames processados na área 'curated' em formato Parquet.\n",
    "\n",
    "    Esta função lê os arquivos Parquet da área de processamento, correspondente às informações de\n",
    "    funcionários, categorias e vendas, e os salva na área 'curated' no formato Parquet.\n",
    "    \"\"\"\n",
    "    try:\n",
    "        # Lê os DataFrames da área de processamento\n",
    "        employees_df = spark.read.parquet(\"/mnt/processing/employees_data.parquet/\")\n",
    "        categories_df = spark.read.parquet(\"/mnt/processing/categories_data.parquet/\")\n",
    "        sales_df = spark.read.parquet(\"/mnt/processing/sales_data.parquet/\")\n",
    "\n",
    "        # Salva os DataFrames na área 'curated' em formato Parquet\n",
    "        employees_df.write.mode('overwrite').parquet(\"/mnt/curated/employees/\")\n",
    "        categories_df.write.mode('overwrite').parquet(\"/mnt/curated/categories/\")\n",
    "        sales_df.write.mode('overwrite').parquet(\"/mnt/curated/sales/\")\n",
    "\n",
    "        print(\"Dados foram salvos com sucesso na curated.\")\n",
    "    except Exception as e:\n",
    "        print(f\"Ocorreu um erro: {e}\")\n",
    "    finally:\n",
    "        print(\"Operações completadas.\")\n",
    "        # spark.stop()\n",
    "\n",
    "# Chamar a função para salvar os dados na área curated\n",
    "save_to_curated()"
   ]
  },
  {
   "cell_type": "code",
   "execution_count": 0,
   "metadata": {
    "application/vnd.databricks.v1+cell": {
     "cellMetadata": {
      "byteLimit": 2048000,
      "rowLimit": 10000
     },
     "inputWidgets": {},
     "nuid": "2796112f-cd95-4a14-8c65-c411c71c09e8",
     "showTitle": false,
     "title": ""
    }
   },
   "outputs": [],
   "source": [
    "# Dicionário com mapeamento dos containers\n",
    "containers = {\n",
    "    \"landing\": \"/mnt/landing/\",\n",
    "    \"processing\": \"/mnt/processing/\",\n",
    "    \"curated\": \"/mnt/curated/\"\n",
    "}\n",
    "\n",
    "# Iterar sobre o dicionário e listar os arquivos em cada camada\n",
    "for container, caminho in containers.items():\n",
    "    print(f\"\\nArquivos no container '{container}':\")\n",
    "    files = dbutils.fs.ls(caminho)\n",
    "    for file in files:\n",
    "        print(file.path)"
   ]
  },
  {
   "cell_type": "code",
   "execution_count": 0,
   "metadata": {
    "application/vnd.databricks.v1+cell": {
     "cellMetadata": {
      "byteLimit": 2048000,
      "rowLimit": 10000
     },
     "inputWidgets": {},
     "nuid": "c4857343-4880-4db2-a66c-03e9b6b4a5be",
     "showTitle": false,
     "title": ""
    }
   },
   "outputs": [],
   "source": [
    "# Calcular o tamanho total da pasta Landing e Curated\n",
    "landing_size = sum(file.size for file in dbutils.fs.ls(\"/mnt/landing/\"))\n",
    "curated_size = sum(file.size for file in dbutils.fs.ls(\"/mnt/curated/\"))\n",
    "\n",
    "# Converter para KB\n",
    "landing_size_mb = (landing_size / 1024)\n",
    "curated_size_mb = (curated_size / 1024)\n",
    "\n",
    "print(f\"Tamanho Armazenamento Landing: {landing_size_mb:.2f} KB\")\n",
    "print(f\"Tamanho Armazenamento Curated: {curated_size_mb:.2f} KB\")\n"
   ]
  }
 ],
 "metadata": {
  "application/vnd.databricks.v1+notebook": {
   "dashboards": [],
   "environmentMetadata": {
    "base_environment": "",
    "client": "1"
   },
   "language": "python",
   "notebookMetadata": {
    "pythonIndentUnit": 4
   },
   "notebookName": "load_to_curated",
   "widgets": {}
  },
  "language_info": {
   "name": "python"
  }
 },
 "nbformat": 4,
 "nbformat_minor": 0
}
