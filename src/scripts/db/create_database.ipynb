{
 "cells": [
  {
   "cell_type": "code",
   "execution_count": 0,
   "metadata": {
    "application/vnd.databricks.v1+cell": {
     "cellMetadata": {
      "byteLimit": 2048000,
      "implicitDf": true,
      "rowLimit": 10000
     },
     "inputWidgets": {},
     "nuid": "b0efa56a-c48a-4c6e-8c1b-167feea2d055",
     "showTitle": false,
     "title": ""
    }
   },
   "outputs": [],
   "source": [
    "%sql\n",
    "-- Criação do banco de dados 'project_db' caso ele ainda não exista\n",
    "CREATE DATABASE IF NOT EXISTS project_db;\n",
    "\n",
    "-- Deletar tabelas existentes antes de recriá-las\n",
    "DROP TABLE IF EXISTS project_db.categories;\n",
    "DROP TABLE IF EXISTS project_db.employees;\n",
    "DROP TABLE IF EXISTS project_db.sales;\n",
    "\n",
    "-- Tabela para armazenar dados de categorias salvos como parquet\n",
    "CREATE TABLE IF NOT EXISTS project_db.categories\n",
    "USING PARQUET\n",
    "LOCATION '/mnt/curated/categories/';  -- Define o caminho onde os dados estão armazenados no DBFS\n",
    "\n",
    "-- Tabela para armazenar dados de funcionários salvos como parquet\n",
    "CREATE TABLE IF NOT EXISTS project_db.employees\n",
    "USING PARQUET \n",
    "LOCATION '/mnt/curated/employees/';\n",
    "\n",
    "-- Tabela para armazenar dados de vendas salvos como parquet\n",
    "CREATE TABLE IF NOT EXISTS project_db.sales\n",
    "USING PARQUET\n",
    "LOCATION '/mnt/curated/sales/';\n"
   ]
  },
  {
   "cell_type": "code",
   "execution_count": 0,
   "metadata": {
    "application/vnd.databricks.v1+cell": {
     "cellMetadata": {
      "byteLimit": 2048000,
      "implicitDf": true,
      "rowLimit": 10000
     },
     "inputWidgets": {},
     "nuid": "230c0c0f-fac9-40e9-870f-29b22eeee117",
     "showTitle": false,
     "title": ""
    }
   },
   "outputs": [],
   "source": [
    "%sql\n",
    "-- Listar todas as tabelas no banco de dados 'project_db'\n",
    "SHOW TABLES IN project_db;"
   ]
  },
  {
   "cell_type": "code",
   "execution_count": 0,
   "metadata": {
    "application/vnd.databricks.v1+cell": {
     "cellMetadata": {
      "byteLimit": 2048000,
      "implicitDf": true,
      "rowLimit": 10000
     },
     "inputWidgets": {},
     "nuid": "4d31f329-e039-4e7e-92a8-a4f9bf0365c5",
     "showTitle": false,
     "title": ""
    }
   },
   "outputs": [],
   "source": [
    "%sql\n",
    "-- Listar o esquema (estrutura) da tabela 'sales'\n",
    "DESCRIBE TABLE project_db.sales;"
   ]
  }
 ],
 "metadata": {
  "application/vnd.databricks.v1+notebook": {
   "dashboards": [],
   "environmentMetadata": {
    "base_environment": "",
    "client": "1"
   },
   "language": "python",
   "notebookMetadata": {
    "mostRecentlyExecutedCommandWithImplicitDF": {
     "commandId": 3806271285875142,
     "dataframes": [
      "_sqldf"
     ]
    },
    "pythonIndentUnit": 4
   },
   "notebookName": "create_database",
   "widgets": {}
  },
  "language_info": {
   "name": "python"
  }
 },
 "nbformat": 4,
 "nbformat_minor": 0
}
