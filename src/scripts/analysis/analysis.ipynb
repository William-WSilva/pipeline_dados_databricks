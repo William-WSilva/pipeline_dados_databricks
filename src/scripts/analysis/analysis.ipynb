{
 "cells": [
  {
   "cell_type": "code",
   "execution_count": 0,
   "metadata": {
    "application/vnd.databricks.v1+cell": {
     "cellMetadata": {
      "byteLimit": 2048000,
      "implicitDf": true,
      "rowLimit": 10000
     },
     "inputWidgets": {},
     "nuid": "b43c26f6-43b7-4e71-9038-a36667994da9",
     "showTitle": false,
     "title": ""
    }
   },
   "outputs": [],
   "source": [
    "%sql\n",
    " -- Selecionar todos os dados da tabela de vendas\n",
    "SELECT * FROM project_db.sales\n",
    "LIMIT 2000;"
   ]
  },
  {
   "cell_type": "code",
   "execution_count": 0,
   "metadata": {
    "application/vnd.databricks.v1+cell": {
     "cellMetadata": {
      "byteLimit": 2048000,
      "implicitDf": true,
      "rowLimit": 10000
     },
     "inputWidgets": {},
     "nuid": "25bda4f7-adaa-455d-b4ca-83fda1578e87",
     "showTitle": false,
     "title": ""
    }
   },
   "outputs": [],
   "source": [
    "%sql\n",
    "-- Selecionar todos os dados da tabela de funcionários\n",
    "SELECT * FROM project_db.employees;"
   ]
  },
  {
   "cell_type": "code",
   "execution_count": 0,
   "metadata": {
    "application/vnd.databricks.v1+cell": {
     "cellMetadata": {
      "byteLimit": 2048000,
      "implicitDf": true,
      "rowLimit": 10000
     },
     "inputWidgets": {},
     "nuid": "d16f7202-0b0a-420a-95be-7e1743b59433",
     "showTitle": false,
     "title": ""
    }
   },
   "outputs": [],
   "source": [
    "%sql\n",
    "-- Selecionar todos os dados da tabela de categorias\n",
    "SELECT * FROM project_db.categories;"
   ]
  },
  {
   "cell_type": "code",
   "execution_count": 0,
   "metadata": {
    "application/vnd.databricks.v1+cell": {
     "cellMetadata": {
      "byteLimit": 2048000,
      "implicitDf": true,
      "rowLimit": 10000
     },
     "inputWidgets": {},
     "nuid": "d3b12bac-c913-4484-a72e-86e2f0dfcd99",
     "showTitle": false,
     "title": ""
    }
   },
   "outputs": [],
   "source": [
    "%sql\n",
    "-- Total de Vendas por Categoria\n",
    "SELECT \n",
    "    c.nome_categoria, \n",
    "    CAST(SUM(s.venda) AS DECIMAL) AS total_vendas\n",
    "FROM project_db.sales AS s\n",
    "JOIN project_db.categories AS c ON s.id_categoria = c.id\n",
    "GROUP BY c.nome_categoria\n",
    "ORDER BY total_vendas DESC;\n"
   ]
  },
  {
   "cell_type": "code",
   "execution_count": 0,
   "metadata": {
    "application/vnd.databricks.v1+cell": {
     "cellMetadata": {
      "byteLimit": 2048000,
      "implicitDf": true,
      "rowLimit": 10000
     },
     "inputWidgets": {},
     "nuid": "cd43b28a-2402-4f27-a326-b1ea6742db17",
     "showTitle": false,
     "title": ""
    }
   },
   "outputs": [],
   "source": [
    "%sql\n",
    "-- Total de Vendas por Funcionário\n",
    "SELECT \n",
    "    e.name, \n",
    "    CAST(SUM(s.venda) AS DECIMAL) AS total_vendas\n",
    "FROM project_db.sales AS s\n",
    "JOIN project_db.employees AS e ON s.id_funcionario = e.id\n",
    "GROUP BY e.name\n",
    "ORDER BY total_vendas DESC"
   ]
  },
  {
   "cell_type": "code",
   "execution_count": 0,
   "metadata": {
    "application/vnd.databricks.v1+cell": {
     "cellMetadata": {
      "byteLimit": 2048000,
      "implicitDf": true,
      "rowLimit": 10000
     },
     "inputWidgets": {},
     "nuid": "853697ea-3d49-4ca2-9557-d8bc469de3da",
     "showTitle": false,
     "title": ""
    }
   },
   "outputs": [],
   "source": [
    "%sql\n",
    "-- Total de Vendas por aNO\n",
    "SELECT \n",
    "    year(data_venda) AS ano,\n",
    "    CAST(SUM(s.venda) AS DECIMAL) AS total_vendas\n",
    "FROM project_db.sales AS s\n",
    "JOIN project_db.employees AS e ON s.id_funcionario = e.id\n",
    "GROUP BY ano\n",
    "ORDER BY total_vendas DESC"
   ]
  },
  {
   "cell_type": "code",
   "execution_count": 0,
   "metadata": {
    "application/vnd.databricks.v1+cell": {
     "cellMetadata": {
      "byteLimit": 2048000,
      "implicitDf": true,
      "rowLimit": 10000
     },
     "inputWidgets": {},
     "nuid": "3dac4f50-0509-45d6-89b6-d2a3881ceacf",
     "showTitle": false,
     "title": ""
    }
   },
   "outputs": [],
   "source": [
    "%sql\n",
    "-- Ranking de Vendas por Funcionário\n",
    "SELECT\n",
    "    f.id AS id_funcionario,\n",
    "    f.name AS nome_funcionario,\n",
    "    CAST(SUM(s.venda) AS DECIMAL) AS total_vendas,\n",
    "    RANK() OVER (ORDER BY SUM(s.venda) DESC) AS rank_vendas\n",
    "FROM project_db.sales s\n",
    "JOIN project_db.employees f ON s.id_funcionario = f.id\n",
    "GROUP BY f.id, f.name\n",
    "ORDER BY rank_vendas;"
   ]
  },
  {
   "cell_type": "code",
   "execution_count": 0,
   "metadata": {
    "application/vnd.databricks.v1+cell": {
     "cellMetadata": {
      "byteLimit": 2048000,
      "implicitDf": true,
      "rowLimit": 10000
     },
     "inputWidgets": {},
     "nuid": "8ec5e54c-eb28-4957-be50-84b1cea8f21c",
     "showTitle": false,
     "title": ""
    }
   },
   "outputs": [],
   "source": [
    "%sql\n",
    "SELECT \n",
    "    s.id_funcionario,\n",
    "    f.name AS nome_funcionario,\n",
    "    c.nome_categoria,\n",
    "    CASE \n",
    "      WHEN s.venda < 10000 THEN 'Baixa'\n",
    "      WHEN s.venda BETWEEN 10000 AND 50000 THEN 'Média'\n",
    "      ELSE 'Alta'\n",
    "    END AS faixa_venda,\n",
    "    CAST(SUM(s.venda) AS DECIMAL) AS total_vendas_faixa\n",
    "FROM project_db.sales s\n",
    "JOIN project_db.employees f ON s.id_funcionario = f.id\n",
    "JOIN project_db.categories c ON s.id_categoria = c.id\n",
    "GROUP BY s.id_funcionario, f.name, c.nome_categoria, faixa_venda\n",
    "ORDER BY s.id_funcionario, faixa_venda;"
   ]
  }
 ],
 "metadata": {
  "application/vnd.databricks.v1+notebook": {
   "dashboards": [],
   "environmentMetadata": {
    "base_environment": "",
    "client": "1"
   },
   "language": "python",
   "notebookMetadata": {
    "mostRecentlyExecutedCommandWithImplicitDF": {
     "commandId": 3402375187325682,
     "dataframes": [
      "_sqldf"
     ]
    },
    "pythonIndentUnit": 4
   },
   "notebookName": "analysis",
   "widgets": {}
  },
  "language_info": {
   "name": "python"
  }
 },
 "nbformat": 4,
 "nbformat_minor": 0
}
